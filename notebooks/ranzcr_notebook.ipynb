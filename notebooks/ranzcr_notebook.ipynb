{
 "cells": [
  {
   "cell_type": "code",
   "execution_count": 1,
   "metadata": {
    "_cell_guid": "b1076dfc-b9ad-4769-8c92-a6c4dae69d19",
    "_uuid": "8f2839f25d086af736a60e9eeb907d3b93b6e0e5",
    "execution": {
     "iopub.execute_input": "2021-09-15T11:29:53.234289Z",
     "iopub.status.busy": "2021-09-15T11:29:53.233934Z",
     "iopub.status.idle": "2021-09-15T11:29:53.239734Z",
     "shell.execute_reply": "2021-09-15T11:29:53.238648Z",
     "shell.execute_reply.started": "2021-09-15T11:29:53.234251Z"
    }
   },
   "outputs": [],
   "source": [
    "import numpy as np \r\n",
    "import pandas as pd \r\n",
    "import os\r\n",
    "from sklearn.cluster import KMeans\r\n",
    "from tqdm import tqdm\r\n",
    "from sklearn.preprocessing import LabelEncoder\r\n",
    "from collections import Counter, defaultdict\r\n",
    "from sklearn.utils import check_random_state\r\n",
    "import torch\r\n",
    "import os\r\n",
    "import random"
   ]
  },
  {
   "cell_type": "code",
   "execution_count": 2,
   "metadata": {
    "execution": {
     "iopub.execute_input": "2021-09-15T11:29:53.241899Z",
     "iopub.status.busy": "2021-09-15T11:29:53.241601Z",
     "iopub.status.idle": "2021-09-15T11:29:53.255028Z",
     "shell.execute_reply": "2021-09-15T11:29:53.254289Z",
     "shell.execute_reply.started": "2021-09-15T11:29:53.241856Z"
    }
   },
   "outputs": [
    {
     "name": "stdout",
     "output_type": "stream",
     "text": [
      "Using Seed Number 20201213\n"
     ]
    }
   ],
   "source": [
    "def seed_all(seed: int = 1930):\r\n",
    "    \"\"\"Seed all random number generators.\"\"\"\r\n",
    "    print(\"Using Seed Number {}\".format(seed))\r\n",
    "\r\n",
    "    os.environ[\"PYTHONHASHSEED\"] = str(\r\n",
    "        seed\r\n",
    "    )  # set PYTHONHASHSEED env var at fixed value\r\n",
    "    torch.manual_seed(seed)\r\n",
    "    torch.cuda.manual_seed_all(seed)\r\n",
    "    torch.cuda.manual_seed(seed)  # pytorch (both CPU and CUDA)\r\n",
    "    np.random.seed(seed)  # for numpy pseudo-random generator\r\n",
    "    random.seed(seed)  # set fixed value for python built-in pseudo-random generator\r\n",
    "    torch.backends.cudnn.deterministic = True\r\n",
    "    torch.backends.cudnn.benchmark = False\r\n",
    "    torch.backends.cudnn.enabled = False\r\n",
    "\r\n",
    "\r\n",
    "def seed_worker(_worker_id):\r\n",
    "    \"\"\"Seed a worker with the given ID.\"\"\"\r\n",
    "    worker_seed = torch.initial_seed() % 2 ** 32\r\n",
    "    np.random.seed(worker_seed)\r\n",
    "    random.seed(worker_seed)\r\n",
    "\r\n",
    "seed_all(20201213)"
   ]
  },
  {
   "cell_type": "markdown",
   "metadata": {},
   "source": [
    "# Introduction\n",
    "\n",
    "> Extracted from Kaggle \n",
    "\n",
    "Serious complications can occur as a result of malpositioned lines and tubes in patients. Doctors and nurses frequently use checklists for placement of lifesaving equipment to ensure they follow protocol in managing patients. Yet, these steps can be time consuming and are still prone to human error, especially in stressful situations when hospitals are at capacity.\n",
    "\n",
    "Hospital patients can have catheters and lines inserted during the course of their admission and serious complications can arise if they are positioned incorrectly. Nasogastric tube malpositioning into the airways has been reported in up to 3% of cases, with up to 40% of these cases demonstrating complications [1-3]. Airway tube malposition in adult patients intubated outside the operating room is seen in up to 25% of cases [4,5]. The likelihood of complication is directly related to both the experience level and specialty of the proceduralist. Early recognition of malpositioned tubes is the key to preventing risky complications (even death), even more so now that millions of COVID-19 patients are in need of these tubes and lines.\n",
    "\n",
    "The gold standard for the confirmation of line and tube positions are chest radiographs. However, a physician or radiologist must manually check these chest x-rays to verify that the lines and tubes are in the optimal position. Not only does this leave room for human error, but delays are also common as radiologists can be busy reporting other scans. Deep learning algorithms may be able to automatically detect malpositioned catheters and lines. Once alerted, clinicians can reposition or remove them to avoid life-threatening complications.\n",
    "\n",
    "The Royal Australian and New Zealand College of Radiologists (RANZCR) is a not-for-profit professional organisation for clinical radiologists and radiation oncologists in Australia, New Zealand, and Singapore. The group is one of many medical organisations around the world (including the NHS) that recognizes malpositioned tubes and lines as preventable. RANZCR is helping design safety systems where such errors will be caught.\n",
    "\n",
    "In this competition, you’ll detect the presence and position of catheters and lines on chest x-rays. Use machine learning to train and test your model on 40,000 images to categorize a tube that is poorly placed.\n",
    "\n",
    "The dataset has been labelled with a set of definitions to ensure consistency with labelling. The normal category includes lines that were appropriately positioned and did not require repositioning. The borderline category includes lines that would ideally require some repositioning but would in most cases still function adequately in their current position. The abnormal category included lines that required immediate repositioning.\n",
    "\n",
    "If successful, your efforts may help clinicians save lives. Earlier detection of malpositioned catheters and lines is even more important as COVID-19 cases continue to surge. Many hospitals are at capacity and more patients are in need of these tubes and lines. Quick feedback on catheter and line placement could help clinicians better treat these patients. Beyond COVID-19, detection of line and tube position will ALWAYS be a requirement in many ill hospital patients.\n",
    "\n",
    "---\n",
    "\n",
    "Class Sequence: ETT - Abnormal\tETT - Borderline\tETT - Normal\tNGT - Abnormal\tNGT - Borderline\tNGT - Incompletely Imaged\tNGT - Normal\tCVC - Abnormal\tCVC - Borderline\tCVC - Normal\tSwan Ganz Catheter Present"
   ]
  },
  {
   "cell_type": "markdown",
   "metadata": {},
   "source": [
    "# Objective: Multi-Label Binary Classification\n",
    "\n",
    "In general, a patient's single chest X-ray could present multiple medical conditions, for example, the X-ray can show up Pneumonia and Covid-19 (both are classes), as a result the class labels are not mutually exclusing (unlike multi-class). The same logic is applied in this setting, where the tube can be labelled differently."
   ]
  },
  {
   "cell_type": "markdown",
   "metadata": {},
   "source": [
    "# Validation Strategy\n",
    "\n",
    "We have a few choices, but first we should examine the data for a few factors:\n",
    "\n",
    "1. Is the data $\\mathcal{X}$ imbalanced?\n",
    "2. Is the data $\\mathcal{X}$ generated in a **i.i.d.** manner, more specifically, if I split $\\mathcal{X}$ to $\\mathcal{X}_{train}$ and $\\mathcal{X}_{val}$, can we ensure that $\\mathcal{X}_{val}$ has no dependency on $\\mathcal{X}_{train}$?\n",
    "\n",
    "---\n",
    "\n",
    "We came to the conclusion:\n",
    "\n",
    "\n",
    "1. Yes, there is quite some imbalanced distribution, in particular, **CVC - Normal**, **ETT - Normal** and **CVC - Borderline** are significantly more than the rest of the classes. Therefore, a stratified cross validation is reasonable. Stratified KFold ensures that relative class frequencies is approximately preserved in each train and validation fold. More concretely, we will not experience the scenario where $X_{train}$ has $m^{+}$ and $m^{-}$ positive and negative samples, but $X_{val}$ has only $p^{+}$ positive samples only and 0 negative samples, simply due to the scarcity of negative samples.\n",
    "\n",
    "2. In medical imaging, it is a well known fact that most of the data contains patient level repeatedly. To put it bluntly, if I have 100 samples, and according to **PatientID**, we see that the id 123456 (John Doe) appeared 20 times, this is normal as a patient can undergo multiple settings of say, X-rays. If we allow John Doe's data to appear in both train and validation set, then this poses a problem of information leakage, in which the data is no longer **i.i.d.**. One can think of each patient has an \"unique, underlying features\" which are highly correlated across their different samples. As a result, it is paramount to ensure that amongst this 3255 unique patients, we need to ensure that each unique patients' images **DO NOT** appear in the validation fold. That is to say, if patient John Doe has 100 X-ray images, but during our 5-fold splits, he has 70 images in Fold 1-4, while 30 images are in Fold 5, then if we were to train on Fold 1-4 and validate on Fold 5, there may be potential leakage and the model will predict with confidence for John Doe's images. This is under the assumption that John Doe's data does not fulfill the i.i.d proces\n",
    "\n",
    "---\n",
    "\n",
    "With the above consideration, we will use **StratifiedGroupKFold** where $K = 5$ splits. There wasn't this splitting function in scikit-learn at the time of competition and as a result, we used a custom written (by someone else) `RepeatedStratifiedGroupKFold` function and just set `n_splits = 1` to get **StratifiedGroupKFold** (yes we cannot afford to repeated sample, so setting the split to be 1 will collapse the repeated function to just the normal stratified group kfold).\n",
    "\n",
    "To recap, we applied stratified logic such that each train and validation set has an **equal** weightage of positive and negative samples. We also grouped the patients in the process such that patient $i$ will not appear in both training and validation set.\n",
    "\n",
    "---\n",
    "\n",
    "> Data leakage can cause you to have blind confidence on your model. We are also guilty of committing one since we trained our models with the NiH pretrained weights, without taking into consideration if the weights overlap with the training and validation folds information. In other words, we did not check properly if the weights trained on the NiH dataset has information in our RANZCR dataset. Take note this is different from training altogether on the NiH dataset, we are merely using the weights instead of the imagenet weights, which brings to the next point."
   ]
  },
  {
   "cell_type": "markdown",
   "metadata": {},
   "source": [
    "# Transfer Learning\n",
    "\n",
    "As we all know, if we train on `imagenet` weights, we may take quite a while to converge, even if we finetune it. The intuition is simple, `imagenet` were trained on many common items in life, and none of them resemble closely to the image structures of X-rays, therefore, the model may have a hard time detecting shapes and details from the X-rays. We can of course unfreeze all the layers and retrain them from scratch, using various backbones, however, due to limited hardware, we decided it is best to use what others have trained. After all, it is much easier to stand on the shoulder of giants like [ammarali](https://www.kaggle.com/ammarali32). Consequently, I conveniently used a set of `pretrained` weights trained specifically on this dataset as a starting point. The weights and ideas can be found **[here](https://www.kaggle.com/c/ranzcr-clip-catheter-line-classification/discussion/215910)**.\n",
    "\n",
    "We used a few models and found out that `resnet200d` has the best results on this set of training images. The reason we used this is mostly empirical, but using `gradcam` we can see how the model sees the images."
   ]
  },
  {
   "cell_type": "markdown",
   "metadata": {},
   "source": [
    "# Preprocessing\n",
    "\n",
    "Most preprocessing techniques we do in an image recognition competition is mostly as follows:\n",
    "\n",
    "\n",
    "\n"
   ]
  },
  {
   "cell_type": "markdown",
   "metadata": {},
   "source": [
    "## Mean and Standard Deviation\n",
    "\n",
    "- Perform **mean and std** for the dataset given to us. Note that this step may make sense on paper, but empirically, using imagenet's default mean std will always work as well, if not better. Nevertheless, here are the stats:\n",
    "    - Imagenet on RGB: mean = [0.485, 0.456, 0.406] and std = [0.229, 0.224, 0.225]\n",
    "    - RANZCR using NiH: mean = [0.4887381077884414], std = [0.23064819430546407]),"
   ]
  },
  {
   "cell_type": "markdown",
   "metadata": {},
   "source": [
    "## Channel Distribution\n",
    "\n",
    "This is usually done to check for \"surprises\". More specifically, I remember vividly when participating in Singapore Airline challenge where the classifier recognize weird objects as luggages. After plotting the pixel histogram, we observed that the luggages colors are all of a non-normal distribution, in fact, it is quite scattered. Then it dawned upon us that the classifier is learning the \"color\" too much, instead of the shape of the luggage. When we grayed out the images, the classifier starts to ignore the noise in the colors, and instead focus on other features like shapes.\n",
    "\n",
    "We found, and as mentioned also by [Rueben Schmidt](https://www.kaggle.com/reubenschmidt) in [this post](https://www.kaggle.com/c/ranzcr-clip-catheter-line-classification/discussion/224146), there are some images that have black borders around them. I experimented by removed them during both the training process. There was no significant increase on the LB score, even if there was, it is in the 3-4th decimal places, but I noticed my local cv increased, so I think that some noise are removed locally, but not reflected in the test set. Therefore, during inference, I also removed the black borders, which should be the correct approach (learning from mistakes!). In conclusion, there is a small boost in score, if I keep this consistent in both training and inference, I reckon that no surprise factor would pop out.\n",
    "\n",
    "Here is the code:\n",
    "\n",
    "```python\n",
    "image = cv2.imread(image_path, cv2.IMREAD_GRAYSCALE)\n",
    "mask  = image > 0\n",
    "image = image[np.ix_(mask.any(1), mask.any(0))]\n",
    "image = cv2.cvtColor(image, cv2.COLOR_GRAY2RGB)\n",
    "```\n",
    "\n",
    "> On hindsight for the Singapore Airline project, I now know there is **GradCam**, where we can see how the model is learning, as it will highlight the areas on which the model is focusing on in an image. "
   ]
  },
  {
   "cell_type": "markdown",
   "metadata": {},
   "source": [
    "## Convert Gray to RGB\n",
    "\n",
    "Actually a good question, when I am revising on this, why did everybody convery Gray to RGB?\n",
    "\n",
    "```python\n",
    "COLOR_GRAY2RGB\n",
    "```\n",
    "\n",
    "This essentially set R=G=B=Grayscale pixel for all channels."
   ]
  },
  {
   "cell_type": "markdown",
   "metadata": {},
   "source": [
    "# Model Architectures, Training Parameters & Augmentations\n",
    "\n",
    "> We built-upon fellow Kaggler **Tawara’s** Multi-head model for our best scoring models. In particular, we experimented with the activation functions and dropout rates. We found models with `Swish` activation in the `multi-head` component of the network to perform > best in our experiments. Our best scoring single model is a multi-head model with a `resnet200d` backbone. In particular, one single fold of `resnet200d` gives a private score of 0.970. \n",
    "> Another very interesting approach is 3-4 stage training. We did not have time to experiment with the 3-4 stage training as we joined the competition late.\n",
    "\n",
    "**Model Architectures:**\n",
    "                    layer = torch.nn.Sequential(\n",
    "                        SpatialAttentionBlock(in_features, [64, 32, 16, 1]),\n",
    "                        torch.nn.AdaptiveAvgPool2d(output_size=1),\n",
    "                        torch.nn.Flatten(start_dim=1),\n",
    "                        torch.nn.Linear(in_features, in_features),\n",
    "                        self.activation,\n",
    "                        torch.nn.Dropout(0.3),\n",
    "                        torch.nn.Linear(in_features, out_dim),\n",
    "                    )\n",
    "- **Backbone**: `ResNet200D` and `SeResNet152d`\n",
    "- **Classifier Head:** Separated and Independent **Spatial-Attention Module** and the typical Multi-Layer Perceptron for Target Group (ETT(3), NGT(4), CVC(3), and Swan(1)).\n",
    "    - **Spatial-Attention Module:** `SpatialAttentionBlock(in_features, [64, 32, 16, 1])`\n",
    "    - **MLP:**: `Linear -> Swish -> Dropout -> Linear`; It is worth noting after the `Linear` layer, there is a `Sigmoid` layer in this particular setup as we are using `BCEWITHLOGITSLOSS` from PyTorch for numerical stability.\n",
    "- **Activation:** One thing to note is we used `Swish` in our Classifier Head. Swish is a smooth and non-monotonic function, the latter contrasts when compared to many other activations. I will explain a bit in the next section.\n",
    "    \n",
    "- **Pretrained Weight:** [NiH trained](https://www.kaggle.com/ammarali32/startingpointschestx)"
   ]
  },
  {
   "cell_type": "markdown",
   "metadata": {},
   "source": [
    "## Activation Functions\n",
    "\n",
    "As we all know, activation functions are used to transform a neurons' linearity to non-linearity and decide whether to \"fire\" a neuron or not.\n",
    "\n",
    "When we design or choose an activation function, we need to ensure the follows:\n",
    "\n",
    "- (Smoothness) Differentiable and Continuous: For example, the sigmoid function is continuous and hence differentiable. If the property is not fulfilled, we might face issues as backpropagation may not be performed properly since we cannot differentiate it.If you notice, the heaviside function is not. We cant perform GD using the HF as we cannot compute gradients but for the logistic function we can. The gradient of sigmoid function g is g(1-g) conveniently\n",
    "\n",
    "- Monotonic: This helps the model to converge faster. But spoiler alert, Swish is not monotonic.\n",
    "\n",
    "The properties of Swish are as follows:\n",
    "\n",
    "- Bounded below: It is claimed in the paper it serves as a strong regularization.\n",
    "- Smoothness: More smooth than ReLU which allows the model to optimize better, the error landscape, when smoothed, is easier to traverse in order to find a minima. An intuitive idea is the hill again, imagine you traverse down Bukit Timah Hill, vs traversing down Mount Himalaya LOL!!!"
   ]
  },
  {
   "cell_type": "code",
   "execution_count": 3,
   "metadata": {
    "execution": {
     "iopub.execute_input": "2021-09-16T04:31:39.156471Z",
     "iopub.status.busy": "2021-09-16T04:31:39.156196Z",
     "iopub.status.idle": "2021-09-16T04:31:39.414408Z",
     "shell.execute_reply": "2021-09-16T04:31:39.413575Z",
     "shell.execute_reply.started": "2021-09-16T04:31:39.156443Z"
    }
   },
   "outputs": [
    {
     "name": "stdout",
     "output_type": "stream",
     "text": [
      "[-3.72007598e-42 -2.74821648e-41 -2.02938946e-40 -1.49791556e-39\n",
      " -1.10511727e-38 -8.14928620e-38 -6.00636065e-37 -4.42459647e-36\n",
      " -3.25758251e-35 -2.39698293e-34 -1.76266428e-33 -1.29537594e-32\n",
      " -9.51325099e-32 -6.98157072e-31 -5.11977906e-30 -3.75149655e-29\n",
      " -2.74658379e-28 -2.00906504e-27 -1.46819513e-26 -1.07185405e-25\n",
      " -7.81664558e-25 -5.69384781e-24 -4.14244049e-23 -3.00976126e-22\n",
      " -2.18367974e-21 -1.58189421e-20 -1.14404157e-19 -8.25883997e-19\n",
      " -5.95028246e-18 -4.27775171e-17 -3.06802513e-16 -2.19461640e-15\n",
      " -1.56526376e-14 -1.11274593e-13 -7.88145425e-13 -5.55910981e-12\n",
      " -3.90241640e-11 -2.72440986e-10 -1.88983053e-09 -1.30099884e-08\n",
      " -8.87511118e-08 -5.98730937e-07 -3.98324049e-06 -2.60285793e-05\n",
      " -1.66056835e-04 -1.02429894e-03 -6.00240020e-03 -3.21480827e-02\n",
      " -1.39622746e-01 -2.69656650e-01  7.40444360e-01  2.89068028e+00\n",
      "  5.01835697e+00  7.06470467e+00  9.08988479e+00  1.11109451e+01\n",
      "  1.31312871e+01  1.51515112e+01  1.71717166e+01  1.91919191e+01\n",
      "  2.12121212e+01  2.32323232e+01  2.52525253e+01  2.72727273e+01\n",
      "  2.92929293e+01  3.13131313e+01  3.33333333e+01  3.53535354e+01\n",
      "  3.73737374e+01  3.93939394e+01  4.14141414e+01  4.34343434e+01\n",
      "  4.54545455e+01  4.74747475e+01  4.94949495e+01  5.15151515e+01\n",
      "  5.35353535e+01  5.55555556e+01  5.75757576e+01  5.95959596e+01\n",
      "  6.16161616e+01  6.36363636e+01  6.56565657e+01  6.76767677e+01\n",
      "  6.96969697e+01  7.17171717e+01  7.37373737e+01  7.57575758e+01\n",
      "  7.77777778e+01  7.97979798e+01  8.18181818e+01  8.38383838e+01\n",
      "  8.58585859e+01  8.78787879e+01  8.98989899e+01  9.19191919e+01\n",
      "  9.39393939e+01  9.59595960e+01  9.79797980e+01  1.00000000e+02]\n",
      "-0.26965664988589166\n"
     ]
    },
    {
     "data": {
      "image/png": "[encoded data removed]",
      "text/plain": [
       "<Figure size 432x288 with 1 Axes>"
      ]
     },
     "metadata": {
      "needs_background": "light"
     },
     "output_type": "display_data"
    }
   ],
   "source": [
    "# Import matplotlib, numpy and math\r\n",
    "import matplotlib.pyplot as plt\r\n",
    "import numpy as np\r\n",
    "import math\r\n",
    "\r\n",
    "def swish(x):\r\n",
    "    sigmoid =  1/(1 + np.exp(-x))\r\n",
    "    swish = x * sigmoid\r\n",
    "    return swish\r\n",
    "\r\n",
    "epsilon = 1e-20\r\n",
    "x = np.linspace(-100,100, 100)\r\n",
    "z = swish(x)\r\n",
    "print(z)\r\n",
    "print(min(z))\r\n",
    "\r\n",
    "plt.plot(x, z)\r\n",
    "plt.xlabel(\"x\")\r\n",
    "plt.ylabel(\"Swish(X)\")\r\n",
    "\r\n",
    "plt.show()\r\n"
   ]
  },
  {
   "cell_type": "markdown",
   "metadata": {},
   "source": [
    "## Model Architecture: Final Activation Layer\n",
    "\n",
    "> [Sigmoid vs Softmax](https://stats.stackexchange.com/questions/233658/softmax-vs-sigmoid-function-in-logistic-classifier) I've noticed people often get directed to this question when searching whether to use sigmoid vs softmax in neural networks. If you are one of those people building a neural network classifier, here is how to decide whether to apply sigmoid or softmax to the raw output values from your network:\n",
    "\n",
    "- If you have a multi-label classification problem = there is more than one \"right answer\" = the outputs are NOT mutually exclusive, then use a sigmoid function on each raw output independently. The sigmoid will allow you to have high probability for all of your classes, some of them, or none of them. Example: classifying diseases in a chest x-ray image. The image might contain pneumonia, emphysema, and/or cancer, or none of those findings.\n",
    "\n",
    "---\n",
    "\n",
    "- If you have a multi-class classification problem = there is only one \"right answer\" = the outputs are mutually exclusive, then use a softmax function. The softmax will enforce that the sum of the probabilities of your output classes are equal to one, so in order to increase the probability of a particular class, your model must correspondingly decrease the probability of at least one of the other classes. Example: classifying images from the MNIST data set of handwritten digits. A single picture of a digit has only one true identity - the picture cannot be a 7 and an 8 at the same time.\n",
    "\n",
    "---\n",
    "\n",
    "In the below code we understand that our model's `forward()` call gives us a output `output_logits` of shape (8, 11) if the batch size is 8, and the 11 represents each logit for each of the class. \n",
    "\n",
    "- If we apply `Softmax` to this function on `dimension=1`, it simply means we are applying the function each row, from row 1 to 8. Take row 1 for example, the softmax function will squash all the 11 values into a 0-1 range, you can say this is a probability calibration, and the `output_predictions` is also of shape `(8, 11)` but all sums up to 1.\n",
    "\n",
    "- If we apply `Sigmoid` to this function on `dimension=1`, although PyTorch does not specifiy this because it automatically assumes we are applying sigmoid elementwise, that is to say you cannot simply pass an array of 11 elements to sigmoid function and but we are applying the sigmoid function each row as well. There is a lot of nuance and intricacies here. We take the first row as an example, the first element corresponds to the class **ETT-Abnormal**, when we apply `sigmoid` to this element 0.0762, we get 0.5190, and for the second element class **ETT-Borderline**, we have 0.0877 and when we apply sigmoid, we get 0.5219, so on and so forth for the first row. You should by now observe that they do not sum to 1. This is because each time sigmoid is applied, it is in a **one-vs-all** scenario. Meaning to say, the 0.519 for **ETT-Abnormal** means that **ETT-Abnormal** is treated as the positive class, and the remaining 10 classes are treated as negative class 0. In other words, with 11 elements and sigmoid, we are essentially performing 11 binary classification on the said 11 classes. So 0.519 actually means that the probability of it being class 1 (**ETT-Abnormal**) is 0.519, and the probability of it being NOT class 1 (ALL other classes) is 0.481. The same logic applies to each of the element in the first row. One thing worth noting is that the predictions for row 1 is not **mutually exclusive**, meaning that from the 11 classes, we can have say, **ETT-Abnormal, NGH-Abnormal, CVC-Abnormal** to all have say probability score of 0.9, meaning to say, it is highly likely to be all 3 conditions! This is okay and common in X-Ray imaging.\n",
    "\n",
    "    - In the table dataframe below, I put them into a dataframe for easy visualization.\n",
    "\n",
    "\n"
   ]
  },
  {
   "cell_type": "code",
   "execution_count": 7,
   "metadata": {},
   "outputs": [],
   "source": [
    "classes = ['ETT - Abnormal', 'ETT - Borderline',\r\n",
    "           'ETT - Normal', 'NGT - Abnormal', 'NGT - Borderline',\r\n",
    "           'NGT - Incompletely Imaged', 'NGT - Normal', 'CVC - Abnormal',\r\n",
    "           'CVC - Borderline', 'CVC - Normal', 'Swan Ganz Catheter Present']"
   ]
  },
  {
   "cell_type": "code",
   "execution_count": 4,
   "metadata": {
    "execution": {
     "iopub.execute_input": "2021-09-15T11:29:54.049868Z",
     "iopub.status.busy": "2021-09-15T11:29:54.049616Z",
     "iopub.status.idle": "2021-09-15T11:29:54.058828Z",
     "shell.execute_reply": "2021-09-15T11:29:54.058106Z",
     "shell.execute_reply.started": "2021-09-15T11:29:54.049836Z"
    }
   },
   "outputs": [],
   "source": [
    "import torch\r\n",
    "\r\n",
    "output_logits = torch.tensor([  [ 0.0762,  0.0877,  0.1205, -0.0615, -0.0054,  0.0661,  0.1567, -0.0978, 0.0248, -0.0350,  0.0084],\r\n",
    "                                [-0.0196, -0.0729,  0.0534,  0.0307, -0.0428, -0.0016,  0.0013, -0.0247, -0.0094, -0.0424,  0.0192],\r\n",
    "                                [-0.0125, -0.0310,  0.0118, -0.1301,  0.0418,  0.0229,  0.0139, -0.0526, 0.0870, -0.0681, -0.0068],\r\n",
    "                                [-0.0259, -0.0544, -0.0262,  0.0018,  0.0161, -0.0369, -0.0370, -0.0157, 0.0036, -0.0592,  0.0107],\r\n",
    "                                [-0.0366, -0.0695,  0.0740, -0.0353, -0.0363, -0.0019,  0.0085, -0.0144, 0.0129, -0.0470,  0.0043],\r\n",
    "                                [-0.0445, -0.0822,  0.0487, -0.0851,  0.0269, -0.0809, -0.0434,  0.0110, -0.0631, -0.0733, -0.0188],\r\n",
    "                                [-0.0304,  0.0012,  0.0233, -0.0121, -0.0406, -0.0459, -0.0363,  0.0089,-0.0009, -0.0797, -0.0017],\r\n",
    "                                [-0.0415,  0.0787,  0.0283, -0.0617, -0.0526, -0.0016, -0.0409, -0.0481, 0.0583, -0.0810, -0.0050]],\r\n",
    "                                dtype=torch.float64, device = 'cuda')"
   ]
  },
  {
   "cell_type": "code",
   "execution_count": 5,
   "metadata": {
    "execution": {
     "iopub.execute_input": "2021-09-15T11:29:54.060524Z",
     "iopub.status.busy": "2021-09-15T11:29:54.060077Z",
     "iopub.status.idle": "2021-09-15T11:29:54.075934Z",
     "shell.execute_reply": "2021-09-15T11:29:54.074863Z",
     "shell.execute_reply.started": "2021-09-15T11:29:54.060492Z"
    }
   },
   "outputs": [
    {
     "name": "stdout",
     "output_type": "stream",
     "text": [
      "tensor([[0.5190, 0.5219, 0.5301, 0.4846, 0.4987, 0.5165, 0.5391, 0.4756, 0.5062,\n",
      "         0.4913, 0.5021],\n",
      "        [0.4951, 0.4818, 0.5133, 0.5077, 0.4893, 0.4996, 0.5003, 0.4938, 0.4977,\n",
      "         0.4894, 0.5048],\n",
      "        [0.4969, 0.4923, 0.5029, 0.4675, 0.5104, 0.5057, 0.5035, 0.4869, 0.5217,\n",
      "         0.4830, 0.4983],\n",
      "        [0.4935, 0.4864, 0.4935, 0.5004, 0.5040, 0.4908, 0.4908, 0.4961, 0.5009,\n",
      "         0.4852, 0.5027],\n",
      "        [0.4909, 0.4826, 0.5185, 0.4912, 0.4909, 0.4995, 0.5021, 0.4964, 0.5032,\n",
      "         0.4883, 0.5011],\n",
      "        [0.4889, 0.4795, 0.5122, 0.4787, 0.5067, 0.4798, 0.4892, 0.5027, 0.4842,\n",
      "         0.4817, 0.4953],\n",
      "        [0.4924, 0.5003, 0.5058, 0.4970, 0.4899, 0.4885, 0.4909, 0.5022, 0.4998,\n",
      "         0.4801, 0.4996],\n",
      "        [0.4896, 0.5197, 0.5071, 0.4846, 0.4869, 0.4996, 0.4898, 0.4880, 0.5146,\n",
      "         0.4798, 0.4988]], device='cuda:0', dtype=torch.float64)\n",
      "tensor([[0.0948, 0.0959, 0.0991, 0.0826, 0.0874, 0.0939, 0.1028, 0.0797, 0.0901,\n",
      "         0.0849, 0.0886],\n",
      "        [0.0900, 0.0853, 0.0968, 0.0946, 0.0879, 0.0916, 0.0919, 0.0895, 0.0909,\n",
      "         0.0879, 0.0935],\n",
      "        [0.0907, 0.0890, 0.0929, 0.0806, 0.0957, 0.0939, 0.0931, 0.0871, 0.1001,\n",
      "         0.0858, 0.0912],\n",
      "        [0.0904, 0.0878, 0.0903, 0.0929, 0.0942, 0.0894, 0.0894, 0.0913, 0.0931,\n",
      "         0.0874, 0.0937],\n",
      "        [0.0887, 0.0858, 0.0991, 0.0888, 0.0887, 0.0918, 0.0928, 0.0907, 0.0932,\n",
      "         0.0878, 0.0924],\n",
      "        [0.0901, 0.0868, 0.0989, 0.0865, 0.0968, 0.0869, 0.0902, 0.0953, 0.0885,\n",
      "         0.0876, 0.0925],\n",
      "        [0.0899, 0.0928, 0.0948, 0.0915, 0.0890, 0.0885, 0.0894, 0.0935, 0.0926,\n",
      "         0.0856, 0.0925],\n",
      "        [0.0884, 0.0997, 0.0948, 0.0867, 0.0875, 0.0920, 0.0885, 0.0879, 0.0977,\n",
      "         0.0850, 0.0917]], device='cuda:0', dtype=torch.float64)\n"
     ]
    }
   ],
   "source": [
    "sigmoid = torch.nn.Sigmoid()\r\n",
    "softmax = torch.nn.Softmax(dim=1)\r\n",
    "output_predictions_sigmoid = sigmoid(output_logits)\r\n",
    "output_predictions_softmax = softmax(output_logits)\r\n",
    "print(output_predictions_sigmoid)\r\n",
    "print(output_predictions_softmax)"
   ]
  },
  {
   "cell_type": "code",
   "execution_count": 8,
   "metadata": {
    "execution": {
     "iopub.execute_input": "2021-09-15T11:54:24.863074Z",
     "iopub.status.busy": "2021-09-15T11:54:24.862789Z",
     "iopub.status.idle": "2021-09-15T11:54:24.885326Z",
     "shell.execute_reply": "2021-09-15T11:54:24.884611Z",
     "shell.execute_reply.started": "2021-09-15T11:54:24.863047Z"
    }
   },
   "outputs": [
    {
     "data": {
      "text/html": [
       "<div>\n",
       "<style scoped>\n",
       "    .dataframe tbody tr th:only-of-type {\n",
       "        vertical-align: middle;\n",
       "    }\n",
       "\n",
       "    .dataframe tbody tr th {\n",
       "        vertical-align: top;\n",
       "    }\n",
       "\n",
       "    .dataframe thead th {\n",
       "        text-align: right;\n",
       "    }\n",
       "</style>\n",
       "<table border=\"1\" class=\"dataframe\">\n",
       "  <thead>\n",
       "    <tr style=\"text-align: right;\">\n",
       "      <th></th>\n",
       "      <th>ETT - Abnormal</th>\n",
       "      <th>ETT - Borderline</th>\n",
       "      <th>ETT - Normal</th>\n",
       "      <th>NGT - Abnormal</th>\n",
       "      <th>NGT - Borderline</th>\n",
       "      <th>NGT - Incompletely Imaged</th>\n",
       "      <th>NGT - Normal</th>\n",
       "      <th>CVC - Abnormal</th>\n",
       "      <th>CVC - Borderline</th>\n",
       "      <th>CVC - Normal</th>\n",
       "      <th>Swan Ganz Catheter Present</th>\n",
       "    </tr>\n",
       "  </thead>\n",
       "  <tbody>\n",
       "    <tr>\n",
       "      <th>0</th>\n",
       "      <td>0.519041</td>\n",
       "      <td>0.521911</td>\n",
       "      <td>0.530089</td>\n",
       "      <td>0.484630</td>\n",
       "      <td>0.498650</td>\n",
       "      <td>0.516519</td>\n",
       "      <td>0.539095</td>\n",
       "      <td>0.475569</td>\n",
       "      <td>0.506200</td>\n",
       "      <td>0.491251</td>\n",
       "      <td>0.502100</td>\n",
       "    </tr>\n",
       "    <tr>\n",
       "      <th>1</th>\n",
       "      <td>0.495100</td>\n",
       "      <td>0.481783</td>\n",
       "      <td>0.513347</td>\n",
       "      <td>0.507674</td>\n",
       "      <td>0.489302</td>\n",
       "      <td>0.499600</td>\n",
       "      <td>0.500325</td>\n",
       "      <td>0.493825</td>\n",
       "      <td>0.497650</td>\n",
       "      <td>0.489402</td>\n",
       "      <td>0.504800</td>\n",
       "    </tr>\n",
       "    <tr>\n",
       "      <th>2</th>\n",
       "      <td>0.496875</td>\n",
       "      <td>0.492251</td>\n",
       "      <td>0.502950</td>\n",
       "      <td>0.467521</td>\n",
       "      <td>0.510448</td>\n",
       "      <td>0.505725</td>\n",
       "      <td>0.503475</td>\n",
       "      <td>0.486853</td>\n",
       "      <td>0.521736</td>\n",
       "      <td>0.482982</td>\n",
       "      <td>0.498300</td>\n",
       "    </tr>\n",
       "    <tr>\n",
       "      <th>3</th>\n",
       "      <td>0.493525</td>\n",
       "      <td>0.486403</td>\n",
       "      <td>0.493450</td>\n",
       "      <td>0.500450</td>\n",
       "      <td>0.504025</td>\n",
       "      <td>0.490776</td>\n",
       "      <td>0.490751</td>\n",
       "      <td>0.496075</td>\n",
       "      <td>0.500900</td>\n",
       "      <td>0.485204</td>\n",
       "      <td>0.502675</td>\n",
       "    </tr>\n",
       "    <tr>\n",
       "      <th>4</th>\n",
       "      <td>0.490851</td>\n",
       "      <td>0.482632</td>\n",
       "      <td>0.518492</td>\n",
       "      <td>0.491176</td>\n",
       "      <td>0.490926</td>\n",
       "      <td>0.499525</td>\n",
       "      <td>0.502125</td>\n",
       "      <td>0.496400</td>\n",
       "      <td>0.503225</td>\n",
       "      <td>0.488252</td>\n",
       "      <td>0.501075</td>\n",
       "    </tr>\n",
       "    <tr>\n",
       "      <th>5</th>\n",
       "      <td>0.488877</td>\n",
       "      <td>0.479462</td>\n",
       "      <td>0.512173</td>\n",
       "      <td>0.478738</td>\n",
       "      <td>0.506725</td>\n",
       "      <td>0.479786</td>\n",
       "      <td>0.489152</td>\n",
       "      <td>0.502750</td>\n",
       "      <td>0.484230</td>\n",
       "      <td>0.481683</td>\n",
       "      <td>0.495300</td>\n",
       "    </tr>\n",
       "    <tr>\n",
       "      <th>6</th>\n",
       "      <td>0.492401</td>\n",
       "      <td>0.500300</td>\n",
       "      <td>0.505825</td>\n",
       "      <td>0.496975</td>\n",
       "      <td>0.489851</td>\n",
       "      <td>0.488527</td>\n",
       "      <td>0.490926</td>\n",
       "      <td>0.502225</td>\n",
       "      <td>0.499775</td>\n",
       "      <td>0.480086</td>\n",
       "      <td>0.499575</td>\n",
       "    </tr>\n",
       "    <tr>\n",
       "      <th>7</th>\n",
       "      <td>0.489626</td>\n",
       "      <td>0.519665</td>\n",
       "      <td>0.507075</td>\n",
       "      <td>0.484580</td>\n",
       "      <td>0.486853</td>\n",
       "      <td>0.499600</td>\n",
       "      <td>0.489776</td>\n",
       "      <td>0.487977</td>\n",
       "      <td>0.514571</td>\n",
       "      <td>0.479761</td>\n",
       "      <td>0.498750</td>\n",
       "    </tr>\n",
       "  </tbody>\n",
       "</table>\n",
       "</div>"
      ],
      "text/plain": [
       "   ETT - Abnormal  ETT - Borderline  ETT - Normal  NGT - Abnormal  \\\n",
       "0        0.519041          0.521911      0.530089        0.484630   \n",
       "1        0.495100          0.481783      0.513347        0.507674   \n",
       "2        0.496875          0.492251      0.502950        0.467521   \n",
       "3        0.493525          0.486403      0.493450        0.500450   \n",
       "4        0.490851          0.482632      0.518492        0.491176   \n",
       "5        0.488877          0.479462      0.512173        0.478738   \n",
       "6        0.492401          0.500300      0.505825        0.496975   \n",
       "7        0.489626          0.519665      0.507075        0.484580   \n",
       "\n",
       "   NGT - Borderline  NGT - Incompletely Imaged  NGT - Normal  CVC - Abnormal  \\\n",
       "0          0.498650                   0.516519      0.539095        0.475569   \n",
       "1          0.489302                   0.499600      0.500325        0.493825   \n",
       "2          0.510448                   0.505725      0.503475        0.486853   \n",
       "3          0.504025                   0.490776      0.490751        0.496075   \n",
       "4          0.490926                   0.499525      0.502125        0.496400   \n",
       "5          0.506725                   0.479786      0.489152        0.502750   \n",
       "6          0.489851                   0.488527      0.490926        0.502225   \n",
       "7          0.486853                   0.499600      0.489776        0.487977   \n",
       "\n",
       "   CVC - Borderline  CVC - Normal  Swan Ganz Catheter Present  \n",
       "0          0.506200      0.491251                    0.502100  \n",
       "1          0.497650      0.489402                    0.504800  \n",
       "2          0.521736      0.482982                    0.498300  \n",
       "3          0.500900      0.485204                    0.502675  \n",
       "4          0.503225      0.488252                    0.501075  \n",
       "5          0.484230      0.481683                    0.495300  \n",
       "6          0.499775      0.480086                    0.499575  \n",
       "7          0.514571      0.479761                    0.498750  "
      ]
     },
     "metadata": {},
     "output_type": "display_data"
    }
   ],
   "source": [
    "df = pd.DataFrame(data =output_predictions_sigmoid.detach().cpu().numpy(), columns=classes)\r\n",
    "display(df)"
   ]
  },
  {
   "cell_type": "markdown",
   "metadata": {},
   "source": [
    "## Model Architecture: Backbone\n",
    "\n",
    "Empirically, we realized the `ResNet200D` works very well for this particular task. We all asked ourselves why, and it was also discussed by many, but we all agreed that through various experiments, this model seems to consistently outperform their other SOTA counterparts. However, the closest possible paper on [Revisiting ResNets: Improved Training and Scaling Strategies](https://arxiv.org/abs/2103.07579).\n",
    "\n",
    "Of course, to add diversity to our final predictions, we trained one more `SeResNet152d` as well. In general, ensembling models with vastly different architectures may result in a more robust solution. As an example, you can think of each model as a \"average learner\", and if their structure is different, it may very well so learn information that the other model might miss, hence ensembling them will average out such differences. Later on I will touch upon an ensembling technique called **Forward Ensembling/Selection** in this task, it has since worked well for other similar competitions."
   ]
  },
  {
   "cell_type": "markdown",
   "metadata": {},
   "source": [
    "## Model Architecture: Classifier Heads - Multi-Head Approach\n",
    "\n",
    "- [Reading on self attention in X-ray](https://towardsdatascience.com/self-attention-in-computer-vision-2782727021f6)\n",
    "\n",
    "- [Image Reference](https://stackoverflow.com/questions/56004483/what-is-a-multi-headed-model-and-what-exactly-is-a-head-in-a-model/56004582)\n",
    "\n",
    "\n",
    "\n",
    "---\n",
    "\n",
    "> At the time of competition, both me and my buddy do not have access to premium GPU hardwares, so we cannot afford to experiment with many different models. As we all know, ensembling models will flat out the variance across the model predictions, and may reduce overfitting in general (not always, but in general). The multi-head approach was inspired when reviewing past/current approaches, and of course from Attention is All you need. In addition, this technique is widely used in Object Detection (although really not the same), where in a typical Object Detection problem, we have two heads, Classification and Regression head. The localization problem is split into the two aforementioned heads, where the former is to classify what it is in an image (classification), and the latter head is the **localize** the image in the sense of finding the corrdinates of the bounding boxes around the said image (regression head).\n",
    "\n",
    "![alt](https://drive.google.com/uc?id=12G-eUVE3lTrBxc8G8mImP3c34EovXD1-) \n",
    "\n",
    "Since we have 11 targets in this competition and they can be divided into 4 groups: \n",
    "\n",
    "- `ETT`,\n",
    "- `NGT`,\n",
    "- `CVC` and\n",
    "- `Swan`. \n",
    "\n",
    "We envision that different groups have different areas in images to focus on. One possible way to leverage this idea is a **multi-head approach**. Multipe groups can share one single CNN backbone but have independent **classifier** heads.\n",
    "\n",
    "While I cannot fully quantify why multi-head is better than single-head other than empirical results, here are my hypothesis:\n",
    "\n",
    "Firstly, the backbone (conv layers) are resposible for extracting a feature map from the image, for example, the earlier layers find simple features like shapes, sizes, edges from an image, while the deep conv layers will be of more abstract features in an image. As a result, there is no need to decouple our feature extractor (backbone). With this in mind, let us move on:\n",
    "\n",
    "**Multi-Label**\n",
    "\n",
    "This is a multi-label classification problem. The section on the activation functions fully explained the single head version of using sigmoid layer. In fact, it is not uncommon to train N number of heads on a N-class Multi-Label problem. One thing to note is that if your classification head is `Linear` layer only (with BCE loss), then the back gradient propagation is the same whether you train one head, or multiple heads. However, we have non-linear layers in the head, including the `SpatialAttentionBlock`! At the time of writing, I won't say I fully grasp of all the inner workings of an Attention Module across various use cases, but an analogy to aid my understanding is as follows:\n",
    "\n",
    "> Having taken Learning From Data from Professor Yaser, the inner joke is about the Hypothesis Space. Let me elaborate, given a resnet200D as our hypothesis space $\\mathcal{H}$, we aim to find a $h \\in \\mathcal{H}$ that best represents our true function $f$. Now suppose our learning algorithm $\\mathcal{A}$ does a good job in helping us to find such a optimal $h$, it may take time, maybe say 100 epochs before finding it. Now if I break down the problem into 4 parts, each corresponding to a group, and we \"aid\" the learning algorithm by giving more attention to 4 focused areas, then we might find both a good $h$ that estimate the $f$ well, and may even be faster!\n",
    "\n",
    "> If the above is too meh for understanding, imagine you are taking an exam in Machine Learning, as we all know, this field is a rabbit hole with never ending topics, let us say that there are 20 topics for you to study for the exam, you are dilligent and does that. But you have limited time and you decided to devote equal time to each topic, the consequence is you may not perform well for the exam due to limited understanding of each topic. Now, if I were to tell you that, hey, out of the 20 topics, can you study these 4 topics, as I think they have a higher chance of coming out, you will likely do better in the exam given that you devoted much more time on those \"focused (attention!)\" topics.\n"
   ]
  },
  {
   "cell_type": "markdown",
   "metadata": {},
   "source": [
    "Single-Head Approach | Multi-Head Approach\n",
    "- | - \n",
    " ![alt](https://drive.google.com/uc?id=12AUYKXSH3bb3ENxqbsMjCVDYHvNqcQa9) | ![alt](https://drive.google.com/uc?id=1278TVxrLF8ce-maOGFiJaubMS9lQGgL4)\n",
    "courtesy of Tawara"
   ]
  },
  {
   "cell_type": "markdown",
   "metadata": {},
   "source": [
    "The following code explains this methodology with reference to the above images.\n",
    "\n",
    "We first note to the readers that typically, if we use a single head approach, where if we were given a problem set $\\mathcal{D} = X \\times y$, a hypothesis space $\\mathcal{H}$ we learn from a learning algorithm $\\mathcal{A}$, producing a final hypothesis $g$ (or h, depends on your notation), that predicts as such $g(X_{val}) = y_{\\text{val_pred}}$, where each element in $y_{\\text{val_pred}}$ corresponds to the class. Think of the basic MNIST example, our prediction vector's first element corresponds to the probability of it being an 0, and so on and so forth (assuming we use soft labels here). \n",
    "\n",
    "The change here is after the feature extraction layer (i.e. the feature logits after backbone), instead of just connecting it to a linear head for classification, we instead split the 11 outputs to 4 distinct groups. Each group will go through the head independent of the others, and this may prompt the model to put more **attention** on the independent groups. Finally, we `torch.cat(..,axis=1)` the outputs after they gone through their respective heads to recover the 11 outputs.\n",
    "\n",
    "```python\n",
    "model = CustomModel(\n",
    "    config,\n",
    "    pretrained=True,\n",
    "    load_weight=True,\n",
    "    load_url=False,\n",
    "    out_dim_heads=[3, 4, 3, 1],\n",
    ")\n",
    "# Multi Head\n",
    "for i, out_dim in enumerate(self.out_dim_heads):\n",
    "    layer_name = f\"head_{i}\"\n",
    "    layer = torch.nn.Sequential(\n",
    "        SpatialAttentionBlock(in_features, [64, 32, 16, 1]),\n",
    "        torch.nn.AdaptiveAvgPool2d(output_size=1),\n",
    "        torch.nn.Flatten(start_dim=1),\n",
    "        torch.nn.Linear(in_features, in_features),\n",
    "        self.activation,\n",
    "        torch.nn.Dropout(0.3),\n",
    "        torch.nn.Linear(in_features, out_dim),\n",
    "    )\n",
    "    setattr(self, layer_name, layer)\n",
    "\n",
    "def forward(self, input_neurons):\n",
    "    \"\"\"Define the computation performed at every call.\"\"\"\n",
    "    if self.use_custom_layers is False:\n",
    "        output_predictions = self.model(input_neurons)\n",
    "    else:\n",
    "        if len(self.out_dim_heads) > 1:\n",
    "            output_logits_backbone = self.architecture[\"backbone\"](input_neurons)\n",
    "            multi_outputs = [\n",
    "                getattr(self, f\"head_{i}\")(output_logits_backbone)\n",
    "                for i in range(self.num_heads)\n",
    "            ]\n",
    "            output_predictions = torch.cat(multi_outputs, axis=1)\n",
    "```"
   ]
  },
  {
   "cell_type": "markdown",
   "metadata": {},
   "source": [
    "## Augmentations\n",
    "\n",
    "We know that augmentation is central in an image competition, as essentially we are adding more data into the training process, effectively reducing overfitting.\n",
    "\n",
    "In particular, we made use of a different Normalization parameter which is more accustomed to the X-ray pretrained images. Thanks Tawara again! Heavy augmentations are used during Train-Time-Augmentation. But during Test-Time-Augmentation, we merely used a HorizontalFlip with 100% probability, and only used tta_steps=1. "
   ]
  },
  {
   "cell_type": "markdown",
   "metadata": {},
   "source": [
    "## Batch Size and Tricks\n",
    "\n",
    "Due to hardware limitation, we can barely fit in anything more than a `batch_size` of 8.\n",
    "\n",
    "Quoting from [here](https://arxiv.org/abs/1609.04836):\n",
    "\n",
    "> It has been observed in practice that when using a larger batch there is a degradation in the quality of the model, as measured by its ability to generalize [...]\n",
    "\n",
    "> large-batch methods tend to converge to sharp minimizers of the training and testing functions—and as is well known, sharp minima lead to poorer generalization. In contrast, small-batch methods consistently converge to flat minimizers, and our experiments support a commonly held view that this is due to the inherent noise in the gradient estimation.\n",
    "\n",
    "The above shows that large batch size may `fit` the model too well, as the model will learn features of the dataset in less iterations, and may memorize this particular dataset's features, leading to overfitting and poor generalization. However, too small a batch size causes our convergence to go too slow, empirically, we take 32 or 64 as the ideal batch size in this competition. \n",
    "\n",
    "We used both `torch.amp` and `gradient accumulation` to be able to fit more batch sizes. We did not freeze the `batch_norm` layers, which still yielded great results. What we should have done is to experiment more on how to freeze the batch norm layers properly, as I believe that it may help. In the end, we used a batch size of 8 and fit 4 iterations using `gradient accumulation`  and trained a total number of 20 epochs to get a local CV score of roughly 0.969."
   ]
  },
  {
   "cell_type": "markdown",
   "metadata": {},
   "source": [
    "## Optimizer, Scheduler and Loss"
   ]
  },
  {
   "cell_type": "markdown",
   "metadata": {},
   "source": [
    "### Scheduler\r\n",
    "\r\n",
    "The configuration can be seen here. But note that we incorporated `GradualWarmUpScheduler` along with `CosineAnnealingLR`, we also experimented with `CosineAnnealingWarmRestarts`, the results are similar.\r\n",
    "\r\n",
    "From the paper [Accurate, Large Minibatch SGD: Training ImageNet in 1 Hour](https://arxiv.org/abs/1706.02677), we learnt about the warmup technique. Although the context of the paper was training under large batch size, we find it helpful even in small batches for the training to converge. \r\n",
    "\r\n",
    "The basic algorithm is as follows:\r\n",
    "\r\n",
    "1. Set a base_lr or initial lr for what you want in a model, say 1e-4.\r\n",
    "2. If we set our warmup epoch to be 10, then we will start from with 1e-4/10 in the first epoch, and take equal steps each time to converge to 1e-4 in the 10th epoch.\r\n",
    "3. After the 10th epoch, warmup ends, we start applying our scheduler's normal steps.\r\n",
    "\r\n",
    "\r\n",
    "However, I took quite some time to understand the idea of gradual warmup, I made my understanding [here](https://github.com/reigHns/reighns-pytorch-gradual-warmup-scheduler/blob/master/src/run.py).\r\n",
    "\r\n",
    "We should try `OneCyclePolicy` as detailed by fastai."
   ]
  },
  {
   "cell_type": "markdown",
   "metadata": {},
   "source": [
    "```python\r\n",
    "num_epochs = 20\r\n",
    "\r\n",
    "CosineAnnealingLR:\r\n",
    "    T_max: num_epochs - 1\r\n",
    "    eta_min: 1.0e-07\r\n",
    "    last_epoch: -1\r\n",
    "    verbose: true\r\n",
    "```\r\n",
    "\r\n",
    "Notice in my configuration above, we set the parameter `T_max` to be the 19, which is like a one-shot training."
   ]
  },
  {
   "cell_type": "code",
   "execution_count": 15,
   "metadata": {},
   "outputs": [
    {
     "data": {
      "text/plain": [
       "[<matplotlib.lines.Line2D at 0x23d0d8162e0>]"
      ]
     },
     "execution_count": 15,
     "metadata": {},
     "output_type": "execute_result"
    },
    {
     "data": {
      "image/png": "[encoded data removed]",
      "text/plain": [
       "<Figure size 432x288 with 1 Axes>"
      ]
     },
     "metadata": {
      "needs_background": "light"
     },
     "output_type": "display_data"
    }
   ],
   "source": [
    "num_epochs = 20\r\n",
    "\r\n",
    "model = torch.nn.Linear(2, 1)\r\n",
    "optimizer = torch.optim.SGD(model.parameters(), lr=100)\r\n",
    "cosine_annealing_lr_scheduler_one_shot = torch.optim.lr_scheduler.CosineAnnealingLR(optimizer, T_max=19, eta_min=1e-7)\r\n",
    "\r\n",
    "cosine_annealing_lr_one_shot = []\r\n",
    "\r\n",
    "for i in range(num_epochs):\r\n",
    "    optimizer.step()\r\n",
    "    cosine_annealing_lr_one_shot.append(optimizer.param_groups[0][\"lr\"])\r\n",
    "    \r\n",
    "#     print(\"Factor = \",i,\" , Learning Rate = \",optimizer.param_groups[0][\"lr\"])\r\n",
    "    cosine_annealing_lr_scheduler_one_shot.step()\r\n",
    "\r\n",
    "plt.plot(cosine_annealing_lr_one_shot)"
   ]
  },
  {
   "cell_type": "code",
   "execution_count": 17,
   "metadata": {},
   "outputs": [
    {
     "data": {
      "text/plain": [
       "[<matplotlib.lines.Line2D at 0x23d1e0fa220>]"
      ]
     },
     "execution_count": 17,
     "metadata": {},
     "output_type": "execute_result"
    },
    {
     "data": {
      "image/png": "[encoded data removed]",
      "text/plain": [
       "<Figure size 432x288 with 1 Axes>"
      ]
     },
     "metadata": {
      "needs_background": "light"
     },
     "output_type": "display_data"
    }
   ],
   "source": [
    "num_epochs = 20\r\n",
    "\r\n",
    "model = torch.nn.Linear(2, 1)\r\n",
    "optimizer = torch.optim.SGD(model.parameters(), lr=100)\r\n",
    "\r\n",
    "cosine_annealing_lr_scheduler_normal= torch.optim.lr_scheduler.CosineAnnealingLR(optimizer, T_max=2, eta_min=1e-7)\r\n",
    "cosine_annealing_lr_normal = []\r\n",
    "\r\n",
    "for i in range(num_epochs):\r\n",
    "    optimizer.step()\r\n",
    "    cosine_annealing_lr_normal.append(optimizer.param_groups[0][\"lr\"])\r\n",
    "    \r\n",
    "#     print(\"Factor = \",i,\" , Learning Rate = \",optimizer.param_groups[0][\"lr\"])\r\n",
    "    cosine_annealing_lr_scheduler_normal.step()\r\n",
    "\r\n",
    "plt.plot(cosine_annealing_lr_normal)"
   ]
  },
  {
   "cell_type": "markdown",
   "metadata": {},
   "source": [
    "### Loss\r\n",
    "\r\n",
    "We should also experiment with `Focal Loss` but seeing negative results from fellow Kagglers, on top with limited resources, we did not try it."
   ]
  },
  {
   "cell_type": "markdown",
   "metadata": {},
   "source": [
    "# Ensembling"
   ]
  },
  {
   "cell_type": "markdown",
   "metadata": {},
   "source": [
    "## Forward Ensembling\n",
    "\n",
    "We made use of the [Forward Ensembling](https://www.kaggle.com/c/siim-isic-melanoma-classification/discussion/175614) idea from Chris in SIIM-ISIC Melanoma Classification back in August 2020, I modified the code for this specific task. A simple description is as follows, modified from Chris, with more mathematical notations.\n",
    "\n",
    "1. We start off with a dataset $\\mathcal{D} = X \\times y$ where it is sampled from the true population $\\mathcal{X} \\times \\mathcal{Y}$.\n",
    "2. We apply KFold (5 splits) to the dataset, as illustrated in the diagram. \n",
    "3. We can now train five different hypothesis $h_{F1}, h_{F2},...,h_{F5}$, where $h_{F1}$ is trained on Fold 2 to Fold 5 and predict on Fold 1, $h_{F2}$ is trained on Fold 1,3,4,5 and predict on Fold 2. The logic follows for all 5 hypothesis.\n",
    "4. Notice that in the five models, we are predicting on a unique validation fold, and as a result, after we trained all 5 folds, we will have the predictions made on the whole training set (F1-F5). This predictions is called the Out-of-Fold predictions.\n",
    "5. We then go a step further and calculate the AUC score with the OOF predictions with the ground truth to get the OOF AUC. We save it to a csv or dataframe called **oof_1.csv**, subsequent oof trained on different hypothesis space should be named **oof_i.csv** where $i \\in [2,3,...]$.\n",
    "6. After we trained all 5 folds, we will use $h_{1}$ to predict on $X_{test}$ and obtain predictions $Y_{\\text{h1 preds}}$, we then use $h_{2}$ to predict on $X_{test}$ and obtain predictions $Y_{\\text{h2 preds}}$, we do this for all five folds and finally $Y_{\\text{final preds}} = \\dfrac{1}{5}\\sum_{i=1}^{5}Y_{\\text{hi preds}}$. This is a typical pipeline in most machine learning problems. We save this final predictions as **sub_1.csv**, subsequence predictions trained on different hypothesis space should be named **sub_i.csv** where $i \\in [2,3,...]$.\n",
    "7. Now if we train another model, a completely different hypothesis space is used, to be more pedantic, we denote the previous model to be taken from the hypothesis space $\\mathcal{H}_{1}$, and now we move on to $\\mathcal{H}_{2}$. We repeat step 1-6 on this new model (Note that you are essentially training 10 \"models\" now since we are doing KFold twice, and oh, please set the seed of KFold to be the same, it should never be the case that both model comes from different splitting seed for apparent reasons).\n",
    "\n",
    "---\n",
    "\n",
    "Here is the key (given the above setup with 2 different models trained on 5 folds):\n",
    "\n",
    "1. Normally, most people do a simple mean ensemble, that is $\\dfrac{Y_{\\text{final preds H1}} + Y_{\\text{final preds H2}}}{2}$. This works well most of the time as we trust both model holds equal importance in the final predictions.\n",
    "2. One issue may be that certain models should be weighted more than the rest, we should not simply take Leaderboard feedback score to judge the weight assignment. A general heuristic here is called Forward Selection.\n",
    "3. (Extract from Chris) Now say that you build 2 models (that means that you did 5 KFold twice). You now have oof_1.csv, oof_2.csv, sub_1.csv, and sub_2.csv. How do we blend the two models? We find the weight w such that `w * oof_1.predictions + (1-w) * oof_2.predictions` has the largest AUC.\n",
    "\n",
    "```python\n",
    "all = []\n",
    "for w in [0.00, 0.01, 0.02, ..., 0.98, 0.99, 1.00]:\n",
    "    ensemble_pred = w * oof_1.predictions + (1-w) * oof_2.predictions\n",
    "    ensemble_auc = roc_auc_score( oof.target , ensemble_pred )\n",
    "    all.append( ensemble_auc )\n",
    "best_weight = np.argmax( all ) / 100.\n",
    "```\n",
    "\n",
    "Then we can assign the best weight like:\n",
    "\n",
    "```python\n",
    "final_ensemble_pred = best_weight * sub_1.target + (1-best_weight) * sub_2.target\n",
    "```\n",
    "\n",
    "<img src='https://drive.google.com/uc?id=12Mpa_9pTdNYizDCVxq_VxX5qx5j84Y1X' width=\"500\"/>\n",
    "Coutersy of Chris\n",
    "\n",
    "---\n",
    "\n",
    "In this competition, there are two approaches, either maximize the average of the macro AUC score of all the classes, or maximize each column/class separately. It turns out that maximizing the columns separately led to disastrous results (it could be my code and idea is wrong, as ROC is a ranking metric). "
   ]
  },
  {
   "cell_type": "markdown",
   "metadata": {},
   "source": [
    "# Conclusion\n",
    "\n",
    "What we could have done better:\n",
    "\n",
    "- Use more variety of `classifier head` like `GeM`.\n",
    "- Use more variety of `backbone`.\n",
    "- Use [Neptune.ai](http://neptune.ai) to log our experiments as soon things start to get messy. Basically MLOps is important!\n",
    "- Experiment on 3-4 stage training.\n",
    "- Pseudo Labelling.\n",
    "- Knowledge Distillation.\n",
    "- Experiment more on maximizing AUC during ensembles. `rank_pct` etc."
   ]
  },
  {
   "cell_type": "markdown",
   "metadata": {},
   "source": [
    "# References\r\n",
    "\r\n",
    "- [Multi-Head Deep Learning Model with Multi-Label Classification](https://debuggercafe.com/multi-head-deep-learning-models-for-multi-label-classification/)\r\n",
    "\r\n",
    "- [AUC Metric on Multi-Label](https://towardsdatascience.com/journey-to-the-center-of-multi-label-classification-384c40229bff)\r\n",
    "\r\n",
    "- [Sigmoid and Softmax for Multi-Label](https://glassboxmedicine.com/2019/05/26/classification-sigmoid-vs-softmax/)\r\n",
    "\r\n",
    "- [Multi-Label Classification Tutorial](https://towardsdatascience.com/journey-to-the-center-of-multi-label-classification-384c40229bff)\r\n",
    "\r\n",
    "- [Why we should use Multi-Head in Multi-Label Classification](https://debuggercafe.com/multi-head-deep-learning-models-for-multi-label-classification/)\r\n",
    "    - [Follow Up 1](https://debuggercafe.com/multi-label-image-classification-with-pytorch-and-deep-learning/)\r\n",
    "    - [Follow Up 2](https://debuggercafe.com/multi-label-fashion-item-classification-using-deep-learning-and-pytorch/)\r\n",
    "    - [Follow Up 3](https://debuggercafe.com/deep-learning-architectures-for-multi-label-classification-using-pytorch/)\r\n",
    "\r\n",
    "- [Sigmoid is Binary Cross Entropy](https://stats.stackexchange.com/questions/485551/1-neuron-bce-loss-vs-2-neurons-ce-loss)\r\n",
    "\r\n",
    "- [Attention Blocks in Computer Vision](https://towardsdatascience.com/attention-in-computer-vision-fd289a5bd7ad)\r\n",
    "\r\n",
    "- [Spatial Attention Blocks](https://medium.com/visionwizard/understanding-attention-modules-cbam-and-bam-a-quick-read-ca8678d1c671)\r\n",
    "\r\n",
    "- [Spatial Attention Module](https://paperswithcode.com/method/spatial-attention-module)\r\n",
    "\r\n",
    "- [Convolutional Block Attention Module](https://arxiv.org/abs/1807.06521)\r\n",
    "\r\n",
    "- [Dive Into Deep Learning - Chapter 10: Attention Mechanisms]\r\n",
    "\r\n",
    "- [Gradual Warmup: Accurate, Large Minibatch SGD: Training ImageNet in 1 Hour](https://arxiv.org/abs/1706.02677)"
   ]
  }
 ],
 "metadata": {
  "interpreter": {
   "hash": "60a592695384e68e81c96d019436b4c6d949e7549cb1292bfa72c05e2c5f0fcb"
  },
  "kernelspec": {
   "display_name": "Python 3 (ipykernel)",
   "language": "python",
   "name": "python3"
  },
  "language_info": {
   "codemirror_mode": {
    "name": "ipython",
    "version": 3
   },
   "file_extension": ".py",
   "mimetype": "text/x-python",
   "name": "python",
   "nbconvert_exporter": "python",
   "pygments_lexer": "ipython3",
   "version": "3.9.7"
  }
 },
 "nbformat": 4,
 "nbformat_minor": 4
}
